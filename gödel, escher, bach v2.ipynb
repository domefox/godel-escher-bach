{
 "cells": [
  {
   "cell_type": "markdown",
   "metadata": {},
   "source": [
    "“godel, escher, bach”\n",
    "\n",
    "a reference to intelligence being systems understanding systems. this one doesn't learn yet but is just kind of babbling about. It's just aware of how they're doing but doesn't really care to get better at speaking.\n",
    "\n",
    "ideally, for the next poem the output of one run impacts the actual code logic of the next run, which leads to an endless cycle of self-learning. but in like a chill, single-threaded way instead of learning through an infinite matrix of tensors, pulsing through the 16-cylinder silicon pipes of the NVIDIA A100 GPU. \n",
    "\n",
    "training a model is like being born, with all those neural connections being forged in a big bang. fine-tuning is more like the day-to-day learnings from having conversations with interesting people in nyc."
   ]
  },
  {
   "cell_type": "code",
   "execution_count": 14,
   "metadata": {
    "scrolled": true
   },
   "outputs": [
    {
     "name": "stdout",
     "output_type": "stream",
     "text": [
      "1 godel, escher, bach\n"
     ]
    }
   ],
   "source": [
    "#### this is an allusion to that monkey sitting in front of the typewriter coincidentally typing in the full works of shakespeare\n",
    "\n",
    "import random\n",
    "\n",
    "# The target sentence and words initialization\n",
    "sentence = \"godel, escher, bach\"\n",
    "words = sentence.split(', ')\n",
    "\n",
    "# Function to generate a random attempt\n",
    "def generate_attempt():\n",
    "    shuffled = words.copy()\n",
    "    random.shuffle(shuffled)\n",
    "    attempt = []\n",
    "    for word in shuffled:\n",
    "        if words[len(attempt)] == word:\n",
    "            attempt.append(word)\n",
    "        else:\n",
    "            break\n",
    "    return \", \".join(attempt)\n",
    "\n",
    "# Main loop with row count\n",
    "def main():\n",
    "    row_count = 0\n",
    "    completed = False\n",
    "    while not completed:\n",
    "        row_count += 1\n",
    "        attempt = generate_attempt()\n",
    "        if attempt:\n",
    "            print(f\"{row_count} {attempt}\")\n",
    "        else:\n",
    "            print(row_count)  # Print only the row count for empty attempts\n",
    "        if attempt == sentence:\n",
    "            completed = True\n",
    "    return row_count\n",
    "\n",
    "# Save the number of attempts to a file\n",
    "num_attempts = main()\n",
    "with open(\"experiment_results.txt\", \"a\") as file:\n",
    "    file.write(f\"{num_attempts}\\n\")"
   ]
  },
  {
   "cell_type": "code",
   "execution_count": 15,
   "metadata": {},
   "outputs": [
    {
     "data": {
      "application/vnd.jupyter.widget-view+json": {
       "model_id": "de7ed13fe8d44fe6aedfb7b8b48909b2",
       "version_major": 2,
       "version_minor": 0
      },
      "text/plain": [
       "Button(description='Reset Results', style=ButtonStyle())"
      ]
     },
     "metadata": {},
     "output_type": "display_data"
    },
    {
     "name": "stdout",
     "output_type": "stream",
     "text": [
      "Average: 1\n",
      "Median: 1\n",
      "Mode: 1\n",
      "Total Attempts: 1\n"
     ]
    }
   ],
   "source": [
    "\n",
    "# Import necessary modules\n",
    "from IPython.display import display\n",
    "import ipywidgets as widgets\n",
    "from statistics import mean, median, mode\n",
    "\n",
    "# Function to reset the experiment results\n",
    "def reset_results(b):\n",
    "    with open(\"experiment_results.txt\", \"w\") as file:\n",
    "        file.write(\"\")  # Clear the contents of the file\n",
    "    print(\"Results reset.\")\n",
    "\n",
    "# Function to load and calculate statistics\n",
    "def load_and_calculate():\n",
    "    try:\n",
    "        results = load_results()\n",
    "        average_attempts = mean(results)\n",
    "        median_attempts = median(results)\n",
    "        mode_attempts = mode(results)\n",
    "        cumulative_attempts = sum(results)\n",
    "        print(f\"Average: {average_attempts}\")\n",
    "        print(f\"Median: {median_attempts}\")\n",
    "        print(f\"Mode: {mode_attempts}\")\n",
    "        print(f\"Total Attempts: {cumulative_attempts}\")\n",
    "    except FileNotFoundError:\n",
    "        print(\"No data file found. Please run some experiments first.\")\n",
    "    except ValueError:\n",
    "        print(\"Data file is empty. Please run some experiments first.\")\n",
    "\n",
    "# Function to load results from a file\n",
    "def load_results():\n",
    "    with open(\"experiment_results.txt\", \"r\") as file:\n",
    "        return [int(line.strip()) for line in file if line.strip()]\n",
    "\n",
    "# Create a button for resetting results\n",
    "reset_button = widgets.Button(description=\"Reset Results\")\n",
    "reset_button.on_click(reset_results)\n",
    "\n",
    "# Display the button\n",
    "display(reset_button)\n",
    "\n",
    "# Run this cell to calculate and print the statistics\n",
    "load_and_calculate()\n"
   ]
  }
 ],
 "metadata": {
  "kernelspec": {
   "display_name": "Python 3 (ipykernel)",
   "language": "python",
   "name": "python3"
  },
  "language_info": {
   "codemirror_mode": {
    "name": "ipython",
    "version": 3
   },
   "file_extension": ".py",
   "mimetype": "text/x-python",
   "name": "python",
   "nbconvert_exporter": "python",
   "pygments_lexer": "ipython3",
   "version": "3.11.5"
  }
 },
 "nbformat": 4,
 "nbformat_minor": 2
}
