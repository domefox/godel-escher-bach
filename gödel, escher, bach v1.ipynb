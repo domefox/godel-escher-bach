{
 "cells": [
  {
   "cell_type": "markdown",
   "metadata": {},
   "source": [
    "# Implementations of early and well-known poetry generators\n",
    "\n",
    "By [Allison Parrish](http://www.decontextualize.com/)\n",
    "\n",
    "This notebook has some Python implementations of a number of early and well-known poetry generators, including Knowles and Tenney's *A House of Dust*, Strachey's love letter generator and Nick Montfort's *Taroko Gorge*."
   ]
  },
  {
   "cell_type": "code",
   "execution_count": 24,
   "metadata": {
    "scrolled": true
   },
   "outputs": [
    {
     "name": "stdout",
     "output_type": "stream",
     "text": [
      "1\n",
      "2 godel\n",
      "3 godel, escher, bach\n"
     ]
    }
   ],
   "source": [
    "import random\n",
    "\n",
    "# The target sentence\n",
    "sentence = \"godel, escher, bach\"\n",
    "words = sentence.split(', ')\n",
    "\n",
    "# Function to generate a random attempt\n",
    "def generate_attempt():\n",
    "    shuffled = words.copy()\n",
    "    random.shuffle(shuffled)\n",
    "    attempt = []\n",
    "    for word in shuffled:\n",
    "        if words[len(attempt)] == word:\n",
    "            attempt.append(word)\n",
    "        else:\n",
    "            break\n",
    "    return \", \".join(attempt)\n",
    "\n",
    "# Main loop with row count\n",
    "row_count = 0\n",
    "completed = False\n",
    "while not completed:\n",
    "    row_count += 1\n",
    "    attempt = generate_attempt()\n",
    "    if attempt:\n",
    "        print(f\"{row_count} {attempt}\")\n",
    "    else:\n",
    "        print(row_count)  # Print only the row count for empty attempts\n",
    "    if attempt == sentence:\n",
    "        completed = True\n"
   ]
  },
  {
   "cell_type": "code",
   "execution_count": 25,
   "metadata": {},
   "outputs": [
    {
     "name": "stdout",
     "output_type": "stream",
     "text": [
      "Average Attempts: 5.08\n",
      "Median Attempts: 4.0\n",
      "Mode Attempts: 1\n"
     ]
    }
   ],
   "source": [
    "import random\n",
    "from statistics import mean, median, mode\n",
    "\n",
    "def run_experiment():\n",
    "    attempts = 0\n",
    "    completed = False\n",
    "    while not completed:\n",
    "        attempt = generate_attempt()\n",
    "        attempts += 1\n",
    "        if attempt == sentence:\n",
    "            completed = True\n",
    "    return attempts\n",
    "\n",
    "# Run the experiment multiple times and collect data\n",
    "num_experiments = 100  # Adjust this number as needed\n",
    "results = [run_experiment() for _ in range(num_experiments)]\n",
    "\n",
    "# Calculate statistics\n",
    "average_attempts = mean(results)\n",
    "median_attempts = median(results)\n",
    "mode_attempts = mode(results)\n",
    "\n",
    "print(f\"Average Attempts: {average_attempts}\")\n",
    "print(f\"Median Attempts: {median_attempts}\")\n",
    "print(f\"Mode Attempts: {mode_attempts}\")\n"
   ]
  },
  {
   "cell_type": "code",
   "execution_count": null,
   "metadata": {},
   "outputs": [],
   "source": []
  },
  {
   "cell_type": "code",
   "execution_count": null,
   "metadata": {},
   "outputs": [],
   "source": []
  },
  {
   "cell_type": "code",
   "execution_count": null,
   "metadata": {},
   "outputs": [],
   "source": []
  },
  {
   "cell_type": "code",
   "execution_count": null,
   "metadata": {},
   "outputs": [],
   "source": []
  },
  {
   "cell_type": "code",
   "execution_count": null,
   "metadata": {},
   "outputs": [],
   "source": []
  },
  {
   "cell_type": "code",
   "execution_count": null,
   "metadata": {},
   "outputs": [],
   "source": []
  },
  {
   "cell_type": "code",
   "execution_count": null,
   "metadata": {},
   "outputs": [],
   "source": []
  },
  {
   "cell_type": "code",
   "execution_count": null,
   "metadata": {},
   "outputs": [],
   "source": []
  },
  {
   "cell_type": "code",
   "execution_count": null,
   "metadata": {},
   "outputs": [],
   "source": []
  },
  {
   "cell_type": "code",
   "execution_count": null,
   "metadata": {},
   "outputs": [],
   "source": []
  },
  {
   "cell_type": "code",
   "execution_count": null,
   "metadata": {},
   "outputs": [],
   "source": []
  }
 ],
 "metadata": {
  "kernelspec": {
   "display_name": "Python 3 (ipykernel)",
   "language": "python",
   "name": "python3"
  },
  "language_info": {
   "codemirror_mode": {
    "name": "ipython",
    "version": 3
   },
   "file_extension": ".py",
   "mimetype": "text/x-python",
   "name": "python",
   "nbconvert_exporter": "python",
   "pygments_lexer": "ipython3",
   "version": "3.11.5"
  }
 },
 "nbformat": 4,
 "nbformat_minor": 2
}
